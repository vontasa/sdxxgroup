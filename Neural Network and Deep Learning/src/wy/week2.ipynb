{
 "cells": [
  {
   "cell_type": "markdown",
   "metadata": {},
   "source": [
    "## Week 2 Note\n",
    "### Vectorize the variables saves time\n",
    "使用向量化，可以提高运算效率。使用numpy和python的内置函数，尽量避免使用for-loop\n",
    "计算向量乘法: `np.dot(W,X)`， `W`和`X`为两个向量"
   ]
  },
  {
   "cell_type": "code",
   "execution_count": 4,
   "metadata": {
    "collapsed": true
   },
   "outputs": [],
   "source": [
    "import numpy as np\n",
    "import time"
   ]
  },
  {
   "cell_type": "code",
   "execution_count": 9,
   "metadata": {},
   "outputs": [
    {
     "name": "stdout",
     "output_type": "stream",
     "text": [
      "25032.323787\n",
      "Time of using vector operation 0.00044226646423339844\n",
      "25032.323787\n",
      "Time of using for-loop 0.05199265480041504\n"
     ]
    }
   ],
   "source": [
    "# Example of efficiency of vectorization.\n",
    "a = np.random.rand(100000)\n",
    "b = np.random.rand(100000)\n",
    "tic = time.time()\n",
    "c = np.dot(a,b)\n",
    "toc = time.time()\n",
    "print(c)\n",
    "print('Time of using vector operation', toc-tic)\n",
    "\n",
    "# for-loop is slow\n",
    "c = 0\n",
    "tic = time.time()\n",
    "for i in range(len(a)):\n",
    "    c+=a[i]*b[i]\n",
    "toc = time.time()\n",
    "print(c)\n",
    "print('Time of using for-loop',toc-tic)"
   ]
  },
  {
   "cell_type": "markdown",
   "metadata": {},
   "source": [
    "### Model of Logistic Regression\n",
    "$$\n",
    "z^{(i)} = w^{T}x^{i}+b \\\\\n",
    "a^{i} = \\sigma(z^{(i)}) = \\frac{1}{1+e^{-z^{(i)}}} \\\\\n",
    "J = -[y^{(i)}log\\hat{y}^{(i)}+(1-y^{i}log(1-\\hat{y}^{(i)})) \\\\\n",
    "dz^{(i)} = a^{(i)}(1-a^{(i)}) \\\\\n",
    "dw = x^{(i)}dz^{(i)} \\\\\n",
    "db = dz^{(i)} = \\frac{1}{m}\\sum_{i=1}^{m}dz^{(i)} \\\\\n",
    "$$\n",
    "\n"
   ]
  },
  {
   "cell_type": "markdown",
   "metadata": {
    "collapsed": true
   },
   "source": [
    "### Broadcasting Example\n",
    "Calories from carbs, proteins, fats in 100g of different foods:\n",
    "\\begin{bmatrix}\n",
    "& apples & beef & egg & potatoes \\\\\n",
    "carb & 56 & 0 & 4.4 & 68 \\\\\n",
    "protein & 1.2 & 104 & 52 & 8 \\\\\n",
    "fat &1.8 & 135 & 99 & 0.9 \\\\\n",
    "\\end{bmatrix}\n",
    "Goal is to turn the value of element into the percentage in the food"
   ]
  },
  {
   "cell_type": "code",
   "execution_count": 2,
   "metadata": {},
   "outputs": [
    {
     "name": "stdout",
     "output_type": "stream",
     "text": [
      "[  59.   239.   155.4   76.9]\n"
     ]
    }
   ],
   "source": [
    "import numpy as np\n",
    "A = np.array([\n",
    "    [56, 0, 4.4, 68],\n",
    "    [1.2, 104, 52, 8],\n",
    "    [1.8, 135, 99, 0.9]\n",
    "])\n",
    "# Sum alone vertically/axis 0/axis x\n",
    "cal = A.sum(axis = 0)\n",
    "print(cal)"
   ]
  },
  {
   "cell_type": "code",
   "execution_count": 8,
   "metadata": {},
   "outputs": [
    {
     "name": "stdout",
     "output_type": "stream",
     "text": [
      "[[ 94.91525424   0.           2.83140283  88.42652796]\n",
      " [  2.03389831  43.51464435  33.46203346  10.40312094]\n",
      " [  3.05084746  56.48535565  63.70656371   1.17035111]]\n"
     ]
    }
   ],
   "source": [
    "# cal is already 1x4, the reshape just for clarifying this\n",
    "percentage = 100*A/cal.reshape(1,4)\n",
    "print(percentage)"
   ]
  },
  {
   "cell_type": "markdown",
   "metadata": {},
   "source": [
    "### More example of numpy\n",
    "Using numpy to generate matrix and array."
   ]
  },
  {
   "cell_type": "code",
   "execution_count": 12,
   "metadata": {},
   "outputs": [
    {
     "name": "stdout",
     "output_type": "stream",
     "text": [
      "[[-0.87437471 -0.8064771  -1.86053272 -0.10162798 -0.73873067]]\n"
     ]
    }
   ],
   "source": [
    "# Generate an array with 5 random number\n",
    "a = np.random.randn(5)\n",
    "# rank 1 array. DON'T USE\n",
    "a.reshape(5,) \n",
    "# 1x5 matrix\n",
    "a1 = np.random.randn(1,5)\n",
    "print(a1)\n",
    "# 5x1 matrix\n",
    "b = np.random.rand(5,1)\n"
   ]
  },
  {
   "cell_type": "code",
   "execution_count": 17,
   "metadata": {},
   "outputs": [
    {
     "data": {
      "text/plain": [
       "array([ 0.62044085,  0.13070451,  1.86587201,  2.21427905, -1.57720369])"
      ]
     },
     "execution_count": 17,
     "metadata": {},
     "output_type": "execute_result"
    }
   ],
   "source": []
  },
  {
   "cell_type": "code",
   "execution_count": null,
   "metadata": {
    "collapsed": true
   },
   "outputs": [],
   "source": []
  }
 ],
 "metadata": {
  "kernelspec": {
   "display_name": "Python 3",
   "language": "python",
   "name": "python3"
  },
  "language_info": {
   "codemirror_mode": {
    "name": "ipython",
    "version": 3
   },
   "file_extension": ".py",
   "mimetype": "text/x-python",
   "name": "python",
   "nbconvert_exporter": "python",
   "pygments_lexer": "ipython3",
   "version": "3.5.2"
  }
 },
 "nbformat": 4,
 "nbformat_minor": 2
}
